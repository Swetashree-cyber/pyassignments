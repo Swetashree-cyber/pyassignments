{
 "cells": [
  {
   "cell_type": "code",
   "execution_count": 12,
   "metadata": {},
   "outputs": [
    {
     "name": "stdout",
     "output_type": "stream",
     "text": [
      "Enter the value of pie:3.14\n",
      "Enter the value of diameter:12\n",
      "volume of the sphere of diameter 12 is: 904.32\n"
     ]
    }
   ],
   "source": [
    "pie = float(input(\"Enter the value of pie:\"))\n",
    "diameter = int(input(\"Enter the value of diameter:\"))\n",
    "radius = diameter/2\n",
    "volume = (float(4/3) * pie * float(radius)**3)\n",
    "volume_round = round(volume, 2)\n",
    "print('volume of the sphere of diameter 12 is:', volume_round)"
   ]
  },
  {
   "cell_type": "code",
   "execution_count": null,
   "metadata": {},
   "outputs": [],
   "source": []
  }
 ],
 "metadata": {
  "kernelspec": {
   "display_name": "Python 3",
   "language": "python",
   "name": "python3"
  },
  "language_info": {
   "codemirror_mode": {
    "name": "ipython",
    "version": 3
   },
   "file_extension": ".py",
   "mimetype": "text/x-python",
   "name": "python",
   "nbconvert_exporter": "python",
   "pygments_lexer": "ipython3",
   "version": "3.7.4"
  }
 },
 "nbformat": 4,
 "nbformat_minor": 2
}
